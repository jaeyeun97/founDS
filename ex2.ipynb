{
 "cells": [
  {
   "cell_type": "markdown",
   "metadata": {},
   "source": [
    "# Example sheet 2: inference\n",
    "Question sheet [[pdf]](http://www.cl.cam.ac.uk/teaching/1718/DataSci/ex2.pdf)"
   ]
  },
  {
   "cell_type": "code",
   "execution_count": 1,
   "metadata": {
    "collapsed": true
   },
   "outputs": [],
   "source": [
    "import numpy as np\n",
    "import pandas\n",
    "import matplotlib.pyplot as plt\n",
    "import scipy.optimize\n",
    "import scipy.stats\n",
    "import urllib\n",
    "%matplotlib inline"
   ]
  },
  {
   "cell_type": "markdown",
   "metadata": {},
   "source": [
    "## 0. Data import\n",
    "\n",
    "This code fetches the dataset, imports it into Python, keeps only the rows with `police_force=='cambridgeshire'`,\n",
    "and processes it to give the following vectors.\n",
    "\n",
    "* `y` is a boolean vector, where `y[i]=True` means that the outcome for row `i` was $\\textsf{find}$ and `y[i]=False` means the outcome was $\\textsf{nothing}$.\n",
    "* `e` is an integer vector, so that the ethnicity for row `i` is `ETHNICITY_LEVELS[e[i]]`, where `ETHNICITY_LEVELS = ['Asian', 'Black', 'White', 'Mixed', 'Other']`"
   ]
  },
  {
   "cell_type": "code",
   "execution_count": 2,
   "metadata": {},
   "outputs": [
    {
     "name": "stdout",
     "output_type": "stream",
     "text": [
      "--2017-11-16 14:59:11--  https://teachingfiles.blob.core.windows.net/founds/stop-and-search.csv\n",
      "Resolving webproxy (webproxy)... 10.116.64.36\n",
      "Connecting to webproxy (webproxy)|10.116.64.36|:3128... connected.\n",
      "Proxy request sent, awaiting response... 200 OK\n",
      "Length: 179821411 (171M) [text/csv]\n",
      "Saving to: 'stop-and-search.csv.3'\n",
      "\n",
      "stop-and-search.csv 100%[===================>] 171.49M  11.0MB/s    in 17s     \n",
      "\n",
      "2017-11-16 14:59:30 (9.90 MB/s) - 'stop-and-search.csv.3' saved [179821411/179821411]\n",
      "\n"
     ]
    }
   ],
   "source": [
    "# On Azure Notebooks, you are allocated a new virtual machine for every session,\n",
    "# and the machine is de-allocated after every session and all its storage is destroyed,\n",
    "# so you need to re-download the file each time. On a local machine, you don't need to\n",
    "# run this each time.\n",
    "\n",
    "!wget \"https://teachingfiles.blob.core.windows.net/founds/stop-and-search.csv\""
   ]
  },
  {
   "cell_type": "code",
   "execution_count": 3,
   "metadata": {
    "collapsed": true
   },
   "outputs": [],
   "source": [
    "df = pandas.read_csv('stop-and-search.csv')\n",
    "# Some entries have ethnicity equal to np.nan, meaning the value is missing in the dataset.\n",
    "# Exclude these records. Let ok be a vector indicating whether ethnicity is present\n",
    "# and the police_force is 'cambridgeshire'\n",
    "ok = np.array([e is not np.nan for e in df['Officer-defined ethnicity']])\n",
    "ok = np.logical_and(ok, df['police_force'] == 'cambridgeshire')\n",
    "y = df['Outcome'][ok].values != 'Nothing found - no further action'\n",
    "\n",
    "# It will be faster to work purely with numbers rather than string lookup.\n",
    "# Prepare an integer vector e, a numerically-coded version of ethnicity, restricted to ok records. \n",
    "ETHNICITY_LEVELS = ['Asian', 'Black', 'White', 'Mixed', 'Other']\n",
    "ethnicity_code = {k:i for i,k in enumerate(ETHNICITY_LEVELS)}\n",
    "e = np.array([ethnicity_code[v] for v in df['Officer-defined ethnicity'][ok]])"
   ]
  },
  {
   "cell_type": "markdown",
   "metadata": {},
   "source": [
    "## Question 1. Bayesian confidence intervals\n"
   ]
  },
  {
   "cell_type": "markdown",
   "metadata": {},
   "source": [
    "(a) Let $\\theta$ consist of 5 independent random variables drawn from the $\\operatorname{Beta}(\\delta,\\delta)$ distribution, where\n",
    "$\\delta = 0.5$. Calculate the posterior distribution of $\\theta$. Implement a function `posterior_sample(size)` that generates size independent samples of $\\theta$ drawn from the posterior distribution. Each sample should be a vector of length 5.\n"
   ]
  },
  {
   "cell_type": "markdown",
   "metadata": {},
   "source": [
    "Prior Belief: $\\theta \\sim \\operatorname{Beta}(\\delta, \\delta)$ where $\\delta = 1/2$.\n",
    "\n",
    "Bayes Rule:\n",
    "$$\n",
    "\\mathbb{Pr}(\\Theta = \\theta \\mid \\text{data}) = \\frac{\\mathbb{P}(\\text{data} \\mid \\Theta = \\theta) \\mathbb{Pr}(\\Theta = \\theta)}{\\mathbb{P}(\\text{data})}\n",
    "$$\n",
    "where $\\mathbb{P}(\\text{data})$ is constant. Let it be $D$.\n",
    "\n",
    "By law of independence:\n",
    "$$\n",
    "\\begin{align}\n",
    "\\mathbb{Pr}(\\Theta = \\theta) &= \\mathbb{Pr}(\\Theta_\\text{Asian} = \\theta_\\text{Asian}, \\Theta_\\text{Black} = \\theta_\\text{Black}, ...) \\\\\n",
    "&= \\mathbb{Pr}(\\Theta_\\text{Asian} = \\theta_\\text{Asian}) \\mathbb{Pr}(\\Theta_\\text{Black} = \\theta_\\text{Black}) ... \\\\\n",
    "\\end{align}\n",
    "$$\n",
    "\n",
    "Since PDF of $\\operatorname{Beta}(\\alpha, \\beta)$ is:\n",
    "$$ \n",
    "f_X(x) = \\frac{x^{\\alpha - 1} (1 - x)^{\\beta - 1}}{B(\\alpha, \\beta)}\n",
    "$$\n",
    "\n",
    "where $B$ is the beta function, which is constant. Since $\\theta \\sim \\operatorname{Beta}(\\delta, \\delta)$ where $\\delta = 1/2$:\n",
    "$$\n",
    "\\mathbb{Pr}(\\Theta = \\theta) = \\frac{1}{C} \\prod_{\\theta_e \\in \\theta} \\theta_e^{\\delta-1} (1-\\theta_e)^{\\delta-1}\n",
    "$$\n",
    "where $C$ is $B^{|\\theta|}$ and $e$ is ethinicity.\n"
   ]
  },
  {
   "cell_type": "code",
   "execution_count": 4,
   "metadata": {},
   "outputs": [
    {
     "data": {
      "image/png": "[encoded data removed]",
      "text/plain": [
       "<matplotlib.figure.Figure at 0x7f9a20907240>"
      ]
     },
     "metadata": {},
     "output_type": "display_data"
    },
    {
     "name": "stdout",
     "output_type": "stream",
     "text": [
      "(10000, 5)\n"
     ]
    }
   ],
   "source": [
    "# dist = b\n",
    "n = np.count_nonzero(e==0)\n",
    "k = np.count_nonzero(y[e==0])\n",
    "delta = 0.5\n",
    "\n",
    "def single_posterior_sample():\n",
    "    for i in ethnicity_code.values():\n",
    "        n = np.count_nonzero(e==i) # n_e \n",
    "        k = np.count_nonzero(y[e==i]) # n_e,find \n",
    "        yield np.random.beta(a=delta+k, b=delta+n-k)\n",
    "\n",
    "def posterior_sample(size):\n",
    "    return np.array([list(single_posterior_sample()) for i in range(size)])\n",
    "        \n",
    "theta = posterior_sample(10000)\n",
    "for l, i in ethnicity_code.items():\n",
    "    plt.hist([s[i] for s in theta], bins=50, label=l)\n",
    "plt.legend()\n",
    "plt.show()\n",
    "\n",
    "print(theta.shape)"
   ]
  },
  {
   "cell_type": "markdown",
   "metadata": {},
   "source": [
    "(b) Given a sample of $\\theta$, define the maximum discrepancy to be\n",
    "$$\n",
    "d(\\theta) = max_{e, e'} |\\theta_e - \\theta_{e'}|\n",
    "$$\n",
    "Plot a histogram of the posterior distribution of $d(\\theta)$."
   ]
  },
  {
   "cell_type": "code",
   "execution_count": 5,
   "metadata": {
    "scrolled": true
   },
   "outputs": [
    {
     "data": {
      "image/png": "[encoded data removed]",
      "text/plain": [
       "<matplotlib.figure.Figure at 0x7f9a68254630>"
      ]
     },
     "metadata": {},
     "output_type": "display_data"
    }
   ],
   "source": [
    "def d(theta):\n",
    "    rows,cols = theta.shape\n",
    "    res = np.zeros(rows)\n",
    "    for i in range(cols):\n",
    "        for j in range(cols):\n",
    "            res = np.maximum(res, np.abs(theta[:,i] - theta[:,j]))\n",
    "    return res\n",
    "\n",
    "plt.hist(d(theta), bins=50)\n",
    "plt.show()"
   ]
  },
  {
   "cell_type": "markdown",
   "metadata": {},
   "source": [
    "(c) You should have found that the posterior distribution of $d(\\theta)$ is highly variable, because the\n",
    "dataset has few cases of $e_i = \\text{Mixed}$ and none of $e_i = \\text{Other}$. Plot the histogram again, but\n",
    "showing only the maximum discrepancy of $(\\theta_\\text{Asian}, \\theta_\\text{Black}, \\theta_\\text{White})$. We’ll call this $d_3(\\theta)$.\n"
   ]
  },
  {
   "cell_type": "code",
   "execution_count": 6,
   "metadata": {},
   "outputs": [
    {
     "data": {
      "image/png": "[encoded data removed]",
      "text/plain": [
       "<matplotlib.figure.Figure at 0x7f9a2178fb70>"
      ]
     },
     "metadata": {},
     "output_type": "display_data"
    }
   ],
   "source": [
    "d_3 = d(theta[:,:3])\n",
    "plt.hist(d_3, bins=50)\n",
    "plt.show()"
   ]
  },
  {
   "cell_type": "markdown",
   "metadata": {},
   "source": [
    "(d) Find a 95% confidence interval of the form:\n",
    "$$\n",
    "\\mathbb{P}(d_3(\\theta) < c) = 95\\%\n",
    "$$"
   ]
  },
  {
   "cell_type": "code",
   "execution_count": 7,
   "metadata": {},
   "outputs": [
    {
     "data": {
      "text/plain": [
       "(0.044808918357489236, 0.047186946778570077)"
      ]
     },
     "execution_count": 7,
     "metadata": {},
     "output_type": "execute_result"
    }
   ],
   "source": [
    "#No Clue\n",
    "sig_sq = np.var(d_3)\n",
    "mu = np.mean(d_3)\n",
    "\n",
    "scipy.stats.norm.interval(0.95, loc=mu, scale=sig_sq)"
   ]
  },
  {
   "cell_type": "markdown",
   "metadata": {},
   "source": [
    "## Question 2. Frequentist confidence interval"
   ]
  },
  {
   "cell_type": "markdown",
   "metadata": {},
   "source": [
    "Let's illustrate the Python approach for a single ethnic group.\n",
    "\n",
    "Following lecture notes &sect;3.2.2, let $n$ be the number of rows with\n",
    "$e_i=\\textsf{Asian}$, and\n",
    "let $k$ be the number of rows with $e_i=\\textsf{Asian}$ and $y_i=\\textsf{find}$.\n",
    "Model $k$ as drawn from a random variable $K\\sim\\operatorname{Bin}(n,\\theta_{\\textsf{Asian}})$.\n",
    "The maximum likelihood estimator is just $\\hat{\\theta}_{\\textsf{Asian}}=k/n$.\n",
    "\n",
    "Some links:\n",
    "* [formulae for the binomial distribution](https://en.wikipedia.org/wiki/Binomial_distribution)\n",
    "* [generating binomial random variables](https://docs.scipy.org/doc/numpy-1.13.0/reference/generated/numpy.random.binomial.html)\n",
    "* [distribution function etc.](https://docs.scipy.org/doc/scipy-0.19.1/reference/generated/scipy.stats.binom.html)"
   ]
  },
  {
   "cell_type": "code",
   "execution_count": 8,
   "metadata": {
    "collapsed": true
   },
   "outputs": [],
   "source": [
    "# ETHNICITY_LEVELS[0]=='Asian', so I'm interested in e==0.\n",
    "n = np.count_nonzero(e==0)\n",
    "k = np.count_nonzero(y[e==0])"
   ]
  },
  {
   "cell_type": "markdown",
   "metadata": {},
   "source": [
    "The bootstrap resampling method is a way to approximate probabilities. It says, for example,\n",
    "$$\n",
    "\\mathbb{P}\\bigl(\\theta_{\\textsf{Asian}} \\in [\\hat{\\theta}_{\\textsf{Asian}}(k)-e,\\; \\hat{\\theta}_{\\textsf{Asian}}(k)+e]\\bigr)\n",
    "\\approx\n",
    "\\mathbb{P}\\bigl(\\hat{\\theta}_{\\textsf{Asian}}(k) \\in [\\hat{\\theta}_{\\textsf{Asian}}(K^*)-e,\\; \\hat{\\theta}_{\\textsf{Asian}}(K^*)+e]\\bigr).\n",
    "$$\n",
    "Here $\\hat{\\theta}_{\\textsf{Asian}}(k)$ means \"the maximum likelihood estimator as computed from data $k$\", and $K^*$ is a random variable, a resampled version of $K$."
   ]
  },
  {
   "cell_type": "code",
   "execution_count": 9,
   "metadata": {},
   "outputs": [
    {
     "data": {
      "text/plain": [
       "0.9535"
      ]
     },
     "execution_count": 9,
     "metadata": {},
     "output_type": "execute_result"
    }
   ],
   "source": [
    "# Draw 10000 samples of K*\n",
    "samples = 10000\n",
    "K_star = np.random.binomial(n, k/n, size=samples)\n",
    "\n",
    "# Estimate the probability Prob(k/n in [K*/n-e, K*/n+e])\n",
    "# I tweaked e until I got an answer that's roughly 0.95.\n",
    "e = 0.0633\n",
    "np.count_nonzero(np.logical_and(k/n >= K_star/n-e, k/n <= K_star/n+e)) / samples"
   ]
  },
  {
   "cell_type": "markdown",
   "metadata": {},
   "source": [
    "## Question 3. Frequentist hypothesis testing\n",
    "_No code snippets provided_"
   ]
  },
  {
   "cell_type": "markdown",
   "metadata": {},
   "source": [
    "## Question 4. Natural parameters"
   ]
  },
  {
   "cell_type": "markdown",
   "metadata": {},
   "source": [
    "If you have produced a matrix with samples of $\\theta$, one row per sample, one column per ethnic group, \n",
    "you could plot it with a plain scatterplot. Or you could generate a fancier plot, e.g. a heatmap or a contour plot."
   ]
  },
  {
   "cell_type": "code",
   "execution_count": 10,
   "metadata": {
    "collapsed": true
   },
   "outputs": [],
   "source": [
    "# dummy data\n",
    "theta = np.minimum(1,np.maximum(0,np.random.normal(loc=0.75, scale=0.1, size=(10000,5))))"
   ]
  },
  {
   "cell_type": "code",
   "execution_count": 11,
   "metadata": {},
   "outputs": [
    {
     "name": "stderr",
     "output_type": "stream",
     "text": [
      "/home/nbuser/anaconda3_431/lib/python3.6/site-packages/matplotlib/cbook/deprecation.py:106: MatplotlibDeprecationWarning: Adding an axes using the same arguments as a previous axes currently reuses the earlier instance.  In a future version, a new instance will always be created and returned.  Meanwhile, this warning can be suppressed, and the future behavior ensured, by passing a unique label to each axes instance.\n",
      "  warnings.warn(message, mplDeprecation, stacklevel=1)\n"
     ]
    },
    {
     "data": {
      "image/png": "[encoded data removed]",
      "text/plain": [
       "<matplotlib.figure.Figure at 0x7f9a21360208>"
      ]
     },
     "metadata": {},
     "output_type": "display_data"
    }
   ],
   "source": [
    "# Simple scatterplot\n",
    "# Because I have lots of points, I use some visual tricks (double-plotting at different size/alpha)\n",
    "# to try to convey the shape of the data a bit better.\n",
    "plt.scatter(theta[:,0], theta[:,1], alpha=.003, s=50, color='lightblue') \n",
    "plt.scatter(theta[:,0], theta[:,1], alpha=.02, s=4, color='blue')\n",
    "plt.axes().set_aspect('equal')\n",
    "plt.xlim(0,1)\n",
    "plt.ylim(0,1)\n",
    "plt.show()"
   ]
  },
  {
   "cell_type": "code",
   "execution_count": 12,
   "metadata": {},
   "outputs": [
    {
     "data": {
      "image/png": "[encoded data removed]",
      "text/plain": [
       "<matplotlib.figure.Figure at 0x7f9a21353400>"
      ]
     },
     "metadata": {},
     "output_type": "display_data"
    }
   ],
   "source": [
    "# Heatmap\n",
    "counts,x,y = np.histogram2d(theta[:,0], theta[:,1], bins=[50,50], range=[[0,1],[0,1]])\n",
    "plt.imshow(counts, extent=(x[0],x[-1],y[0],y[-1]), origin='lower');"
   ]
  },
  {
   "cell_type": "markdown",
   "metadata": {},
   "source": [
    "## Question 5. Model selection"
   ]
  },
  {
   "cell_type": "markdown",
   "metadata": {},
   "source": [
    "Here is a cunning matrix-oriented way to generate values of $Y$. Whatever you pass in as `x1` and `x2`, it generates a result with sensible dimension."
   ]
  },
  {
   "cell_type": "code",
   "execution_count": 13,
   "metadata": {},
   "outputs": [
    {
     "name": "stdout",
     "output_type": "stream",
     "text": [
      "11.080155178337733\n",
      "[  6.75707286  11.21093558]\n",
      "[ 8.33570921  7.06557134]\n",
      "(10, 2, 2)\n"
     ]
    }
   ],
   "source": [
    "def Y(x1, x2, size=1):\n",
    "    x1,x2 = np.array(x1), np.array(x2)\n",
    "    wantshape = (size,) + (x1+x2).shape\n",
    "    return np.squeeze(np.random.normal(loc=5 + 3*x1 + 0.1*x2, scale=1, size=wantshape))\n",
    "\n",
    "# For single values of x1 and x2, Y is a single value\n",
    "print(Y(2,3))\n",
    "\n",
    "# For vectors x1 and/or x2, Y is a vector\n",
    "print(Y([1,2],[2,3]))\n",
    "print(Y(1, [2,3]))\n",
    "\n",
    "# For m*n matrices x1 and x2, Y is a size*m*n matrix\n",
    "print(Y([[1,2],[3,4]], [[4,5],[6,7]], size=10).shape)"
   ]
  },
  {
   "cell_type": "markdown",
   "metadata": {},
   "source": [
    "Data import."
   ]
  },
  {
   "cell_type": "code",
   "execution_count": 14,
   "metadata": {
    "collapsed": true
   },
   "outputs": [],
   "source": [
    "URL = \"https://teachingfiles.blob.core.windows.net/founds/model_selection_sample.csv\"\n",
    "df = pandas.read_csv(urllib.request.urlopen(URL))\n",
    "x1,x2,y = (df['x1'].values, df['x2'].values, df['y'].values)"
   ]
  },
  {
   "cell_type": "markdown",
   "metadata": {},
   "source": [
    "### (b) Prediction accuracy"
   ]
  },
  {
   "cell_type": "markdown",
   "metadata": {},
   "source": [
    "You can simplify your code if you write it with matrix notation. (This is good practice for when you get into TensorFlow.)"
   ]
  },
  {
   "cell_type": "code",
   "execution_count": 15,
   "metadata": {},
   "outputs": [
    {
     "name": "stdout",
     "output_type": "stream",
     "text": [
      "(10, 10)\n",
      "(10, 10)\n",
      "(1000, 10, 10)\n"
     ]
    }
   ],
   "source": [
    "# Generate a mesh of points. This gives two matrices x1new and x2new, each 10*10.\n",
    "x1new, x2new = np.meshgrid(np.linspace(-1.5,1.5,10), np.linspace(-1.5,1.5,10))\n",
    "print(x1new.shape)\n",
    "\n",
    "# Compute the expected value (according to your model).\n",
    "# If you type in a simple maths formula, it will be applied pointwise to every point on the grid.\n",
    "expected = 0.3 * x1new + 0.5 * x2new\n",
    "print(expected.shape)\n",
    "\n",
    "# Generate 1000 values at every point on the grid.\n",
    "# The way we defined Y, it will return a 1000*10*10 array.\n",
    "actual = Y(x1new, x2new, size=1000)\n",
    "print(actual.shape)"
   ]
  },
  {
   "cell_type": "code",
   "execution_count": 16,
   "metadata": {},
   "outputs": [
    {
     "data": {
      "text/plain": [
       "(100000,)"
      ]
     },
     "execution_count": 16,
     "metadata": {},
     "output_type": "execute_result"
    }
   ],
   "source": [
    "# Compute the error for every 1000*10*10 generated datapoint.\n",
    "# Then flatten them all out into a list of length 100,000.\n",
    "err = (actual - expected[np.newaxis,:,:]).reshape(-1)\n",
    "err.shape"
   ]
  },
  {
   "cell_type": "markdown",
   "metadata": {},
   "source": [
    "### (c) Parameter uncertainty via resampling"
   ]
  },
  {
   "cell_type": "markdown",
   "metadata": {},
   "source": [
    "To sample $n$ values with replacement from $\\{0,1,\\dots,n-1\\}$,"
   ]
  },
  {
   "cell_type": "code",
   "execution_count": 17,
   "metadata": {},
   "outputs": [
    {
     "data": {
      "text/plain": [
       "array([1, 7, 9, 3, 9, 3, 5, 3, 1, 7])"
      ]
     },
     "execution_count": 17,
     "metadata": {},
     "output_type": "execute_result"
    }
   ],
   "source": [
    "n = 10\n",
    "np.random.choice(n, size=n)"
   ]
  }
 ],
 "metadata": {
  "kernelspec": {
   "display_name": "Python 3.6",
   "language": "python",
   "name": "python36"
  },
  "language_info": {
   "codemirror_mode": {
    "name": "ipython",
    "version": 3
   },
   "file_extension": ".py",
   "mimetype": "text/x-python",
   "name": "python",
   "nbconvert_exporter": "python",
   "pygments_lexer": "ipython3",
   "version": "3.6.0"
  }
 },
 "nbformat": 4,
 "nbformat_minor": 2
}
