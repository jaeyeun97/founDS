{
 "cells": [
  {
   "cell_type": "markdown",
   "metadata": {
    "collapsed": true
   },
   "source": [
    "# Example Sheet 3a"
   ]
  },
  {
   "cell_type": "markdown",
   "metadata": {},
   "source": [
    "## Question 1\n",
    "\n",
    "Given $\\delta_0(x) = \\mathbb{P}(X_0 = x) = 1/10$:\n",
    "\n",
    "$$\n",
    "\\begin{align}\n",
    "\\pi_0(x) &= \\mathbb{P}(X_0 = x \\mid Y_0 = y_0) \\\\\n",
    "         &= \\frac {\\mathbb{P}(Y_0 = y_0 \\mid X_0 = x) \\mathbb{P}( X_0 = x)} {\\mathbb{P}(Y_0 = y_0)} \\\\\n",
    "         &= \\frac {\\mathbb{P}(Y_0 = y_0 \\mid X_0 = x) \\delta_0(x)} {\\mathbb{P}(Y_0 = y_0)} \\\\\n",
    "         &= \\frac { Q_{xy_0} \\delta_0(x)} {\\mathbb{P}(Y_0 = y_0)}\n",
    "\\end{align}\n",
    "$$"
   ]
  },
  {
   "cell_type": "markdown",
   "metadata": {},
   "source": [
    "## Question 2\n",
    "\n",
    "Given the statements below:\n",
    "$$\n",
    "\\delta_n(x) = \\mathbb{P} (X_n = x \\mid Y_0 = y_0, Y_1 = y_1, ..., Y_{n-1} = y_{n-1})\n",
    "$$\n",
    "\n",
    "Deduce that:\n",
    "\n",
    "$$\n",
    "\\begin{align}\n",
    "\\delta_1(x) &= \\mathbb{P} (X_1 = x \\mid Y_0 = y_0) \\\\\n",
    "            &= \\sum_{0 \\leq s \\leq 9} \\mathbb{P} (X_1 = x, X_0 = s \\mid Y_0 = y_0) \\\\\n",
    "            &= \\sum_{0 \\leq s \\leq 9} \\mathbb{P} (X_1 = x \\mid X_0 = s, Y_0 = y_0)  \\mathbb{P} (X_0 = s \\mid Y_0 = y_0)\n",
    "\\end{align}\n",
    "$$\n",
    "\n",
    "By Markov Assumption (that the next state is only dependent on the one state before):\n",
    "\n",
    "$$\n",
    "\\begin{align}\n",
    "\\delta_1(x) &= \\sum_{0 \\leq s \\leq 9} \\mathbb{P} (X_1 = x \\mid X_0 = s)  \\mathbb{P} (X_0 = s \\mid Y_0 = y_0) \\\\\n",
    "            &= \\sum_{0 \\leq s \\leq 9} P_{sx}  \\pi_0(s)\n",
    "\\end{align}\n",
    "$$"
   ]
  },
  {
   "cell_type": "markdown",
   "metadata": {},
   "source": [
    "## Question 3\n",
    "\n",
    "$$\n",
    "\\begin{align}\n",
    "\\pi_n(x) &= \\mathbb{P}(X_n = x \\mid Y_0 = y_0, ..., Y_n = y_n)  \\\\\n",
    "         &= \\frac {\\mathbb{P}(Y_0 = y_0, ..., Y_n = y_n \\mid X_n = x) \\mathbb{P} (X_n = x)} {\\mathbb{P}(Y_0 = y_0, ..., Y_n = y_n)} && \\text{(Bayes' Rule)} \\\\\n",
    "\\end{align}\n",
    "$$\n",
    "\n",
    "Since each observation $Y_i$ is independent:\n",
    "\n",
    "$$\n",
    "\\mathbb{P}(Y_0 = y_0, ..., Y_n = y_n \\mid X_n = x) = \\mathbb{P}(Y_0 = y_0, ..., Y_{n-1} = y_{n-1} \\mid X_n = x) \\mathbb{P}(Y_n = y_n \\mid X_n = x)\n",
    "$$\n",
    "\n",
    "and:\n",
    "\n",
    "$$\n",
    "\\mathbb{P}(Y_0 = y_0, ..., Y_n = y_n) = \\mathbb{P}(Y_0 = y_0, ..., Y_{n-1} = y_{n-1}) \\mathbb{P}(Y_n = y_n)\n",
    "$$\n",
    "\n",
    "Therefore:\n",
    "\n",
    "$$\n",
    "\\pi_n(x) = \\frac {\\mathbb{P}(Y_0 = y_0, ..., Y_{n-1} = y_{n-1} \\mid X_n = x) \\mathbb{P}(Y_n = y_n \\mid X_n = x) \\mathbb{P} (X_n = x)} {\\mathbb{P}(Y_0 = y_0, ..., Y_n = y_n)}\n",
    "$$\n",
    "\n",
    "Applying Bayes rule again to the subequation:\n",
    "\n",
    "$$\n",
    "\\mathbb{P}(Y_0 = y_0, ..., Y_{n-1} = y_{n-1} \\mid X_n = x) = \\frac{\\mathbb{P}(X_n = x \\mid Y_0 = y_0, ..., Y_{n-1} = y_{n-1}) \\mathbb{P}(Y_0 = y_0, ..., Y_{n-1} = y_{n-1})} {\\mathbb{P} (X_n = x)}\n",
    "$$\n",
    "\n",
    "We substitute the values to the original equation:\n",
    "\n",
    "$$\n",
    "\\begin{align}\n",
    "\\pi_n(x) &= \\frac {\\mathbb{P}(X_n = x \\mid Y_0 = y_0, ..., Y_{n-1} = y_{n-1}) \\mathbb{P}(Y_0 = y_0, ..., Y_{n-1} = y_{n-1}) \\mathbb{P}(Y_n = y_n \\mid X_n = x) \\mathbb{P} (X_n = x)} {\\mathbb{P} (X_n = x) \\mathbb{P}(Y_0 = y_0, ..., Y_{n-1} = y_{n-1}) \\mathbb{P}(Y_n = y_n)} \\\\\n",
    "         &= \\frac {\\mathbb{P}(X_n = x \\mid Y_0 = y_0, ..., Y_{n-1} = y_{n-1}) \\mathbb{P}(Y_n = y_n \\mid X_n = x)} {\\mathbb{P}(Y_n = y_n)} \\\\\n",
    "         &= \\frac {\\delta_n(x) Q_{xy_n}} {\\mathbb{P}(Y_n = y_n)}\n",
    "\\end{align}\n",
    "$$"
   ]
  },
  {
   "cell_type": "markdown",
   "metadata": {},
   "source": [
    "## Question 4"
   ]
  },
  {
   "cell_type": "code",
   "execution_count": 2,
   "metadata": {
    "collapsed": true
   },
   "outputs": [],
   "source": [
    "# Getting Ready\n",
    "import numpy as np\n",
    "import matplotlib\n",
    "import matplotlib.pyplot as plt\n",
    "import random\n",
    "%matplotlib inline"
   ]
  },
  {
   "cell_type": "code",
   "execution_count": 47,
   "metadata": {
    "collapsed": true
   },
   "outputs": [],
   "source": [
    "# Emission Matrix\n",
    "Q = np.zeros((10,10))\n",
    "for x in range(10):\n",
    "    # 1/3 for each cases as they have uniform distribution\n",
    "    Q[x, max(x-1,0)] += 1/3 # add 1/3 for x-1\n",
    "    Q[x, x] += 1/3 # add 1/3 for x\n",
    "    Q[x, min(x+1,9)] += 1/3 # add 1/3 for x+1\n",
    "assert all(np.sum(Q, axis=1) == 1)\n",
    "\n",
    "#Transitional Matrix\n",
    "P = np.zeros((10,10))\n",
    "for x in range(10):\n",
    "    # Since there are only states available to go from a state, probability is 0.5\n",
    "    P[x, max(x-1,0)] += 1/2 \n",
    "    P[x, min(x+1,9)] += 1/2\n",
    "assert all(np.sum(P, axis=1) == 1)"
   ]
  },
  {
   "cell_type": "code",
   "execution_count": 42,
   "metadata": {
    "collapsed": true
   },
   "outputs": [],
   "source": [
    "delta_0 = np.ones(10) / 10\n",
    "\n",
    "\"\"\"\n",
    "ys = list of readings\n",
    "P = transitional matrix from one state to another\n",
    "Q = emission matrix \n",
    "\"\"\"\n",
    "def filter_obs(delta_0, ys, P, Q):\n",
    "    delta = delta_0\n",
    "    pis = []\n",
    "    for y in ys: # For each reading\n",
    "        pi = Q[:, y] * delta # element-wise multiplication of the vector of possible states and current delta.\n",
    "        pi = pi / sum(pi) # normalise\n",
    "        pis.append(pi) # add to list of pis. Each pi_i consists probabilities of each state given ith observation.\n",
    "        delta = pi @ P # Update delta to reflect likelihood of X_n = x for each state x. \n",
    "    return pis\n"
   ]
  },
  {
   "cell_type": "markdown",
   "metadata": {},
   "source": [
    "## Question 5"
   ]
  },
  {
   "cell_type": "code",
   "execution_count": 25,
   "metadata": {},
   "outputs": [
    {
     "name": "stdout",
     "output_type": "stream",
     "text": [
      "ERROR: invalid value encountered in true_divide\n"
     ]
    }
   ],
   "source": [
    "with np.errstate(all='raise'):\n",
    "    try:\n",
    "        a = filter_obs(delta_0, [3, 3, 4, 9], P, Q)\n",
    "    except Exception as e:\n",
    "        print(\"ERROR:\", str(e))"
   ]
  },
  {
   "cell_type": "markdown",
   "metadata": {},
   "source": [
    "Error happens because the probability of the 4<sup>th</sup> state being 8 or 9, which is needed in order to get an observation of 9, is 0. "
   ]
  },
  {
   "cell_type": "code",
   "execution_count": 48,
   "metadata": {
    "collapsed": true
   },
   "outputs": [],
   "source": [
    "epsilon = 0.01\n",
    "P_prime = np.zeros((10,10))\n",
    "for x in range(10):\n",
    "    P_prime[x, :] = P[x, :] * (1 - epsilon)\n",
    "    P_prime[x, :] += epsilon / 10\n",
    "assert all(np.sum(P_prime, axis=1) == 1)"
   ]
  },
  {
   "cell_type": "markdown",
   "metadata": {},
   "source": [
    "The code above should return the new transition matrix `P_prime`. Alternatively, you could pre-compute `sum(Q[y-1:y+1, y])` to see if the next computation of $\\pi$ is not possible."
   ]
  }
 ],
 "metadata": {
  "kernelspec": {
   "display_name": "Python 3.6",
   "language": "python",
   "name": "python36"
  },
  "language_info": {
   "codemirror_mode": {
    "name": "ipython",
    "version": 3
   },
   "file_extension": ".py",
   "mimetype": "text/x-python",
   "name": "python",
   "nbconvert_exporter": "python",
   "pygments_lexer": "ipython3",
   "version": "3.6.2"
  }
 },
 "nbformat": 4,
 "nbformat_minor": 2
}
